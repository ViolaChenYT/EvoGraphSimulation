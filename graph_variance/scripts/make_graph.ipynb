{
 "cells": [
  {
   "cell_type": "code",
   "execution_count": 1,
   "metadata": {},
   "outputs": [],
   "source": [
    "import sys, os\n",
    "import networkx as nx\n",
    "import numpy as np\n",
    "import random\n",
    "import matplotlib.pyplot as plt\n",
    "from queue import *\n",
    "import copy"
   ]
  },
  {
   "cell_type": "code",
   "execution_count": 13,
   "metadata": {},
   "outputs": [],
   "source": [
    "visualize = False"
   ]
  },
  {
   "cell_type": "markdown",
   "metadata": {},
   "source": [
    "### Gen small detours"
   ]
  },
  {
   "cell_type": "code",
   "execution_count": 16,
   "metadata": {},
   "outputs": [],
   "source": [
    "counter = 0 # first graph is wellmixed\n",
    "output_dir = \"../graphs/pop_size_10/\"\n",
    "for detour_len in range(9):\n",
    "  graph = nx.complete_graph(10-detour_len) \n",
    "  edge_list = [ (10-detour_len+i - 1,(10-detour_len+i)%10) for i in range(detour_len+1)]\n",
    "  graph.add_edges_from(edge_list)\n",
    "  nx.write_edgelist(graph,f\"{output_dir}/{counter}.txt\",data=False)\n",
    "  counter += 1\n",
    "  # nx.draw_networkx(graph)\n",
    "  # plt.show()\n",
    "  # plt.clf()\n",
    "for clique_size in range(2,8):\n",
    "  graph = nx.complete_graph(clique_size)\n",
    "  n_remaining = 10 - clique_size\n",
    "  el = np.array(nx.complete_graph(n_remaining).edges) + clique_size \n",
    "  graph.add_edges_from(el)\n",
    "  graph.add_edge(clique_size-1, clique_size)\n",
    "  nx.write_edgelist(graph,f\"{output_dir}/{counter}.txt\",data=False)\n",
    "  counter += 1\n",
    "  # nx.draw_networkx(graph)\n",
    "  # plt.show()\n",
    "  # plt.clf()\n",
    "for i in range(3,9):\n",
    "  graph = nx.random_regular_graph(i, 10)\n",
    "  nx.write_edgelist(graph,f\"{output_dir}/{counter}.txt\",data=False)\n",
    "  counter += 1\n",
    "for k in range(20):\n",
    "  graph = nx.gnm_random_graph(10, 25)\n",
    "  nx.write_edgelist(graph,f\"{output_dir}/{counter}.txt\",data=False)\n",
    "  counter += 1\n",
    "for k in range(20):\n",
    "  graph = nx.gnm_random_graph(10, 30)\n",
    "  nx.write_edgelist(graph,f\"{output_dir}/{counter}.txt\",data=False)\n",
    "  counter += 1\n",
    "for k in range(20):\n",
    "  graph = nx.gnm_random_graph(10, 35)\n",
    "  nx.write_edgelist(graph,f\"{output_dir}/{counter}.txt\",data=False)\n",
    "  counter += 1"
   ]
  },
  {
   "cell_type": "code",
   "execution_count": null,
   "metadata": {},
   "outputs": [],
   "source": []
  }
 ],
 "metadata": {
  "kernelspec": {
   "display_name": "Python 3.7.4 64-bit",
   "language": "python",
   "name": "python3"
  },
  "language_info": {
   "codemirror_mode": {
    "name": "ipython",
    "version": 3
   },
   "file_extension": ".py",
   "mimetype": "text/x-python",
   "name": "python",
   "nbconvert_exporter": "python",
   "pygments_lexer": "ipython3",
   "version": "3.7.4"
  },
  "orig_nbformat": 4,
  "vscode": {
   "interpreter": {
    "hash": "e774977668b7c0ae8309835a5187aa7fbf7669e7d0bb59755bc63e573643edcd"
   }
  }
 },
 "nbformat": 4,
 "nbformat_minor": 2
}
